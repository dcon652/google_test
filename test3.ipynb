{
  "nbformat": 4,
  "nbformat_minor": 0,
  "metadata": {
    "colab": {
      "provenance": [],
      "include_colab_link": true
    },
    "kernelspec": {
      "name": "python3",
      "display_name": "Python 3"
    },
    "language_info": {
      "name": "python"
    }
  },
  "cells": [
    {
      "cell_type": "markdown",
      "metadata": {
        "id": "view-in-github",
        "colab_type": "text"
      },
      "source": [
        "<a href=\"https://colab.research.google.com/github/dcon652/google_test/blob/main/test3.ipynb\" target=\"_parent\"><img src=\"https://colab.research.google.com/assets/colab-badge.svg\" alt=\"Open In Colab\"/></a>"
      ]
    },
    {
      "cell_type": "code",
      "execution_count": null,
      "metadata": {
        "id": "zT6G0I3YVx76"
      },
      "outputs": [],
      "source": [
        "print('hello')"
      ]
    },
    {
      "cell_type": "code",
      "source": [
        "import ee\n",
        "#trigger euthentication flow:\n",
        "ee.Authenticate()"
      ],
      "metadata": {
        "id": "KYZgW0naXYb-"
      },
      "execution_count": null,
      "outputs": []
    },
    {
      "cell_type": "code",
      "source": [
        "#initiliase library\n",
        "ee.Initialize(project='project1-467023')"
      ],
      "metadata": {
        "id": "AOp6cVwwXemJ"
      },
      "execution_count": null,
      "outputs": []
    },
    {
      "cell_type": "code",
      "source": [
        "#print elevation of mt.everest\n",
        "dem=ee.Image('USGS/SRTMGL1_003')\n",
        "xy=ee.Geometry.Point([86.9250,27.9881])\n",
        "elev=dem.sample(xy,30).first().get('elevation').getInfo()\n",
        "print('mt everest elevation:',elev)"
      ],
      "metadata": {
        "id": "TAryVHDiXh2H",
        "outputId": "b9fd02d2-7cbc-433f-c80f-fff497e4ff4b",
        "colab": {
          "base_uri": "https://localhost:8080/"
        }
      },
      "execution_count": null,
      "outputs": [
        {
          "output_type": "stream",
          "name": "stdout",
          "text": [
            "mt everest elevation: 8729\n"
          ]
        }
      ]
    },
    {
      "cell_type": "code",
      "source": [
        "oldnn"
      ],
      "metadata": {
        "id": "IztlRxe-XjBQ",
        "outputId": "61fdfb23-e915-4089-ed32-9a5b77c2bf8e",
        "colab": {
          "base_uri": "https://localhost:8080/"
        }
      },
      "execution_count": null,
      "outputs": [
        {
          "output_type": "stream",
          "name": "stdout",
          "text": [
            "testing\n"
          ]
        }
      ]
    },
    {
      "cell_type": "code",
      "source": [],
      "metadata": {
        "id": "jMBR8JKSYZXs"
      },
      "execution_count": null,
      "outputs": []
    }
  ]
}